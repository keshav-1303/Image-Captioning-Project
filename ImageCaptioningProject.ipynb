{
 "cells": [
  {
   "cell_type": "code",
   "execution_count": null,
   "metadata": {
    "colab": {
     "base_uri": "https://localhost:8080/"
    },
    "id": "0tlUGtQbCV6g",
    "outputId": "44a18a75-4c09-44ec-9ec7-928c67c946de"
   },
   "outputs": [],
   "source": [
    "# Installing boto3 package too upload files to AWS S3 or Digital Ocean Spaces\n",
    "! wget https://archive.org/download/mnist/mnist.zip"
   ]
  },
  {
   "cell_type": "code",
   "execution_count": null,
   "metadata": {
    "colab": {
     "base_uri": "https://localhost:8080/"
    },
    "id": "c7OyC4YlC0Ur",
    "outputId": "b7d8e528-2e10-4b99-82c2-b8ac9a3f1e1c"
   },
   "outputs": [],
   "source": [
    "! unzip mnist.zip -d mnist/"
   ]
  },
  {
   "cell_type": "code",
   "execution_count": null,
   "metadata": {
    "id": "cJ_laG37C306"
   },
   "outputs": [],
   "source": [
    "import pandas as pd\n",
    "import numpy as np\n",
    "from keras.utils import to_categorical"
   ]
  },
  {
   "cell_type": "code",
   "execution_count": null,
   "metadata": {
    "id": "0F2RqdMZC5Wr"
   },
   "outputs": [],
   "source": [
    "df_train = pd.read_csv(\"mnist/train.csv\")\n",
    "X_train = df_train.iloc[:,1:].values\n",
    "Y_train = df_train.iloc[:,0].values\n",
    "Y_train = to_categorical(Y_train, num_classes=10) # one hot encoding of labels"
   ]
  },
  {
   "cell_type": "code",
   "execution_count": null,
   "metadata": {
    "colab": {
     "base_uri": "https://localhost:8080/"
    },
    "id": "9_2klutFC7A4",
    "outputId": "70a89934-a8be-42b0-bb7d-a42935fbd7e4"
   },
   "outputs": [],
   "source": [
    "! pip install boto3\n",
    "import boto3"
   ]
  },
  {
   "cell_type": "code",
   "execution_count": null,
   "metadata": {
    "id": "eW82nqKvC80w"
   },
   "outputs": [],
   "source": [
    "# Creating model\n",
    "from keras.models import Sequential\n",
    "from keras.layers import Dense\n",
    "from keras.optimizers import Adam"
   ]
  },
  {
   "cell_type": "code",
   "execution_count": null,
   "metadata": {
    "id": "13OJjDosC-Wz"
   },
   "outputs": [],
   "source": [
    "def create_model():\n",
    "  model = Sequential()\n",
    "  model.add(Dense(30,input_dim=784,activation='sigmoid'))\n",
    "  model.add(Dense(50,activation='sigmoid'))\n",
    "  model.add(Dense(50,activation='sigmoid'))\n",
    "  model.add(Dense(10,activation='softmax'))\n",
    "\n",
    "  model.compile(loss=\"categorical_crossentropy\", optimizer='adam',metrics=['accuracy'])\n",
    "  model.summary()\n",
    "  return model"
   ]
  },
  {
   "cell_type": "code",
   "execution_count": null,
   "metadata": {
    "colab": {
     "base_uri": "https://localhost:8080/",
     "height": 738
    },
    "id": "sJzjlicADBR4",
    "outputId": "c1c7eb7d-bf83-4397-8cd8-96a8c65c0066"
   },
   "outputs": [],
   "source": [
    "# Training model\n",
    "model = create_model()\n",
    "! mkdir models\n",
    "no_of_epochs = 10\n",
    "session = boto3.Session(aws_access_key_id=\"Put AWS Key ID here \" , aws_secret_access_key = \" Put secret key here\" )\n",
    "s3 = session.resource('s3',endpoint_url=\"you can configure this endpoint for using digital ocean spaces, remove this option if using s3 \",region_name=\" set region name of bucket\")\n",
    "bucket = s3.Bucket(\"Bucket Name\")\n",
    "\n",
    "for i in range(no_of_epochs):\n",
    "  history = model.fit(X_train,Y_train,epochs=1)\n",
    "  file_name = \"models/\" + \"epoch-\" + str(i) + \"-loss-\" + str(history.history[\"loss\"][0]) + \".h5\"\n",
    "  # saving model\n",
    "  model.save(file_name)\n",
    "\n",
    "  # compressing files\n",
    "  ! tar -cvf models.tar.gz models\n",
    "\n",
    "  # uploading compressed models.tar.gz to s3 bucket and making it public\n",
    "  with open('models.tar.gz','rb') as data:\n",
    "    bucket.upload_fileobj(data, 'models.tar.gz')\n",
    "  object_acl = s3.ObjectAcl('Bucket name','models.tar.gz')\n",
    "  response = object_acl.put(ACL='public-read') # to make the file public so that you can download it using wget commands whenever you train next time\n",
    "\n",
    "! ls models/"
   ]
  },
  {
   "cell_type": "code",
   "execution_count": null,
   "metadata": {
    "id": "-taycH07DDar"
   },
   "outputs": [],
   "source": [
    "model.evaluate(X_train,Y_train)"
   ]
  }
 ],
 "metadata": {
  "accelerator": "GPU",
  "colab": {
   "gpuType": "T4",
   "provenance": []
  },
  "kernelspec": {
   "display_name": "Python 3",
   "name": "python3"
  },
  "language_info": {
   "name": "python"
  }
 },
 "nbformat": 4,
 "nbformat_minor": 0
}
